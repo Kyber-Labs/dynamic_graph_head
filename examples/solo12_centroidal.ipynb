{
 "cells": [
  {
   "cell_type": "code",
   "execution_count": 1,
   "metadata": {},
   "outputs": [
    {
     "name": "stderr",
     "output_type": "stream",
     "text": [
      "pybullet build time: Oct 26 2021 21:51:09\n"
     ]
    }
   ],
   "source": [
    "import numpy as np\n",
    "import matplotlib.pylab as plt\n",
    "\n",
    "from bullet_utils.env import BulletEnvWithGround\n",
    "from robot_properties_solo.solo12wrapper import Solo12Robot, Solo12Config\n",
    "\n",
    "import mim_control_cpp\n",
    "\n",
    "from dynamic_graph_head import ThreadHead, SimHead, SimVicon, HoldPDController"
   ]
  },
  {
   "cell_type": "markdown",
   "metadata": {},
   "source": [
    "# Example controller used for demonstration."
   ]
  },
  {
   "cell_type": "code",
   "execution_count": 2,
   "metadata": {},
   "outputs": [],
   "source": [
    "import pinocchio as pin\n",
    "\n",
    "class CentroidalController:\n",
    "    def __init__(self, head, vicon_name, mu, kp, kd, kc, dc, kb, db):\n",
    "        self.set_k(kp, kd)\n",
    "        self.robot = Solo12Config.buildRobotWrapper()\n",
    "        self.vicon_name = vicon_name\n",
    "\n",
    "        self.x_com = [0.0, 0.0, 0.20]\n",
    "        self.xd_com = [0.0, 0.0, 0.0]\n",
    "\n",
    "        self.x_des = np.array([ \n",
    "             0.2, 0.142, 0.015,  0.2, -0.142,  0.015,\n",
    "            -0.2, 0.142, 0.015, -0.2, -0.142,  0.015\n",
    "        ])\n",
    "        self.xd_des = np.array(4*[0., 0., 0.])\n",
    "\n",
    "        self.x_ori = [0., 0., 0., 1.]\n",
    "        self.x_angvel = [0., 0., 0.]\n",
    "        self.cnt_array = 4*[1,]\n",
    "        \n",
    "        self.w_com = np.zeros(6)\n",
    "        \n",
    "        q_init = np.zeros(19)\n",
    "        q_init[7] = 1\n",
    "        self.centrl_pd_ctrl = mim_control_cpp.CentroidalPDController()\n",
    "        self.centrl_pd_ctrl.initialize(2.5, np.diag(self.robot.mass(q_init)[3:6, 3:6]))\n",
    "\n",
    "        self.force_qp = mim_control_cpp.CentroidalForceQPController()\n",
    "        self.force_qp.initialize(4, mu, np.array([5e5, 5e5, 5e5, 1e6, 1e6, 1e6]))\n",
    "                \n",
    "        root_name = 'universe'\n",
    "        endeff_names = ['FL_ANKLE', 'FR_ANKLE', 'HL_ANKLE', 'HR_ANKLE']\n",
    "        self.imp_ctrls = [mim_control_cpp.ImpedanceController() for eff_name in endeff_names]\n",
    "        for i, c in enumerate(self.imp_ctrls):\n",
    "            c.initialize(self.robot.model, root_name, endeff_names[i])\n",
    "        \n",
    "        self.kc = np.array(kc)\n",
    "        self.dc = np.array(dc)\n",
    "        self.kb = np.array(kb)\n",
    "        self.db = np.array(db)\n",
    "                \n",
    "        self.joint_positions = head.get_sensor('joint_positions')\n",
    "        self.joint_velocities = head.get_sensor('joint_velocities')\n",
    "        self.slider_positions = head.get_sensor('slider_positions')\n",
    "        self.imu_gyroscope = head.get_sensor('imu_gyroscope')\n",
    "\n",
    "    def set_k(self, kp, kd):\n",
    "        self.kp = 4 * [kp, kp, kp, 0, 0, 0]\n",
    "        self.kd = 4 * [kd, kd, kd, 0, 0, 0]\n",
    "\n",
    "    def warmup(self, thread):\n",
    "        thread.vicon.bias_position(self.vicon_name)\n",
    "        self.zero_sliders = self.slider_positions.copy()\n",
    "\n",
    "    def get_base(self, thread):\n",
    "        base_pos, base_vel = thread.vicon.get_state(self.vicon_name)\n",
    "        base_vel[3:] = self.imu_gyroscope\n",
    "        return base_pos, base_vel\n",
    "    \n",
    "    def run(self, thread):\n",
    "        base_pos, base_vel = self.get_base(thread)\n",
    "\n",
    "        self.q = np.hstack([base_pos, self.joint_positions])\n",
    "        self.dq = np.hstack([base_vel, self.joint_velocities])\n",
    "\n",
    "        self.w_com[:] = 0\n",
    "        \n",
    "        self.centrl_pd_ctrl.run(\n",
    "            self.kc, self.dc, self.kb, self.db,\n",
    "            self.q[:3], self.x_com, self.dq[:3], self.xd_com,\n",
    "            self.q[3:7], self.x_ori, self.dq[3:6], self.x_angvel\n",
    "        )\n",
    "        \n",
    "        self.w_com[2] = 9.81 * Solo12Config.mass\n",
    "        self.w_com += self.centrl_pd_ctrl.get_wrench()\n",
    "        \n",
    "        if hasattr(self, 'update_w_com'):\n",
    "            self.update_w_com(thread)\n",
    "        \n",
    "        # distrubuting forces to the active end effectors\n",
    "        pin_robot = self.robot\n",
    "        pin_robot.framesForwardKinematics(self.q)\n",
    "        com = self.com = pin_robot.com(self.q)\n",
    "        rel_eff = np.array([\n",
    "            pin_robot.data.oMf[i].translation - com for i in Solo12Config.end_eff_ids\n",
    "        ]).reshape(-1)\n",
    "                \n",
    "        ext_cnt_array = [1., 1., 1., 1.]\n",
    "        self.force_qp.run(self.w_com, rel_eff, ext_cnt_array)\n",
    "        self.F = self.force_qp.get_forces()\n",
    "        \n",
    "        if hasattr(self, 'update_F'):\n",
    "            self.update_F(thread)\n",
    "        \n",
    "        # passing forces to the impedance controller\n",
    "        self.tau = np.zeros(18)\n",
    "        for i, c in enumerate(self.imp_ctrls):\n",
    "            c.run(self.q, self.dq,\n",
    "                 np.array(self.kp[6*i:6*(i+1)]),\n",
    "                 np.array(self.kd[6*i:6*(i+1)]),\n",
    "                 1.,\n",
    "                 pin.SE3(np.eye(3), np.array(self.x_des[3*i:3*(i+1)])),\n",
    "                 pin.Motion(self.xd_des[3*i:3*(i+1)], np.zeros(3)),\n",
    "                 pin.Force(self.F[3*i:3*(i+1)], np.zeros(3))\n",
    "             )\n",
    "\n",
    "            self.tau += c.get_torques()\n",
    "                \n",
    "        head.set_control('ctrl_joint_torques', self.tau[6:])"
   ]
  },
  {
   "cell_type": "markdown",
   "metadata": {},
   "source": [
    "# Init the BulletEnv and setup the robot in it."
   ]
  },
  {
   "cell_type": "code",
   "execution_count": 3,
   "metadata": {},
   "outputs": [
    {
     "data": {
      "text/plain": [
       "<robot_properties_solo.solo12wrapper.Solo12Robot at 0x119e98b80>"
      ]
     },
     "execution_count": 3,
     "metadata": {},
     "output_type": "execute_result"
    }
   ],
   "source": [
    "bullet_env = BulletEnvWithGround()\n",
    "\n",
    "# Create a robot instance. This initializes the simulator as well.\n",
    "robot = Solo12Robot()\n",
    "bullet_env.add_robot(robot)"
   ]
  },
  {
   "cell_type": "markdown",
   "metadata": {},
   "source": [
    "# Setup the simulated head and the thread_head.\n",
    "\n",
    "The `thread_head` is the central object which executes the actul setup. It also orchastrates data logging and streaming (for plotting) of data."
   ]
  },
  {
   "cell_type": "code",
   "execution_count": 4,
   "metadata": {},
   "outputs": [],
   "source": [
    "head = SimHead(robot, vicon_name='solo12')\n",
    "thread_head = ThreadHead(\n",
    "    0.001, # dt.\n",
    "    HoldPDController(head, 3., 0.05, True), # Safety controllers.\n",
    "    head, # Heads to read / write from.\n",
    "    [     # Utils.\n",
    "        ('vicon', SimVicon(['solo12/solo12']))\n",
    "    ], \n",
    "    bullet_env # Environment to step.\n",
    ")"
   ]
  },
  {
   "cell_type": "markdown",
   "metadata": {},
   "source": [
    "# Initialize the centroidal controller and place robot on the ground."
   ]
  },
  {
   "cell_type": "code",
   "execution_count": 5,
   "metadata": {},
   "outputs": [],
   "source": [
    "ctrl = centroidal_controller = CentroidalController(head, 'solo12/solo12', 0.2, 50., 0.7,\n",
    "    [100., 100., 100.], [15., 15., 15.], [25., 25., 25.], [22.5, 22.5, 22.5]\n",
    ")\n",
    "\n",
    "q0 = np.array(Solo12Config.initial_configuration)\n",
    "q0[0] = 0.\n",
    "q0[2] -= 0.01\n",
    "\n",
    "dq0 = np.array(Solo12Config.initial_velocity)\n",
    "thread_head.head.reset_state(q0, dq0)\n",
    "\n",
    "thread_head.switch_controllers(centroidal_controller)"
   ]
  },
  {
   "cell_type": "markdown",
   "metadata": {},
   "source": [
    "# Run the simulation for 10'000 steps (10 seconds).\n",
    "\n",
    "While doing so the data from the current controller is streamed out for plotting and is also logged to file."
   ]
  },
  {
   "cell_type": "code",
   "execution_count": 6,
   "metadata": {},
   "outputs": [
    {
     "name": "stdout",
     "output_type": "stream",
     "text": [
      "Hello world from websocket thread.  Not logging 'kp' as field type '<class 'list'>' is unsupported <ThreadHead(Thread-8, initial)>\n",
      "\n",
      "  Not logging 'kd' as field type '<class 'list'>' is unsupported\n",
      "  Not logging 'robot' as field type '<class 'pinocchio.robot_wrapper.RobotWrapper'>' is unsupported\n",
      "  Not logging 'vicon_name' as field type '<class 'str'>' is unsupported\n",
      "  Not logging 'x_com' as field type '<class 'list'>' is unsupported\n",
      "  Not logging 'xd_com' as field type '<class 'list'>' is unsupported\n",
      "  Not logging 'x_ori' as field type '<class 'list'>' is unsupported\n",
      "  Not logging 'x_angvel' as field type '<class 'list'>' is unsupported\n",
      "  Not logging 'cnt_array' as field type '<class 'list'>' is unsupported\n",
      "  Not logging 'centrl_pd_ctrl' as field type '<class 'mim_control_cpp.CentroidalPDController'>' is unsupported\n",
      "  Not logging 'force_qp' as field type '<class 'mim_control_cpp.CentroidalForceQPController'>' is unsupported\n",
      "  Not logging 'imp_ctrls' as field type '<class 'list'>' is unsupported\n",
      "!!! ThreadHead: Start streaming data.\n",
      "!!! ThreadHead: Start logging to file \"2021-11-19_12-25-59.mds\" for 30.00 seconds.\n",
      "!!! ThreadHead: Stop streaming data.\n",
      "!!! ThreadHead: Stop logging to file \"/Users/bilal/devel/optimal_control_dev/workspace/src/dynamic_graph_head/examples/2021-11-19_12-25-59.mds\".\n"
     ]
    },
    {
     "data": {
      "image/png": "[encoded data removed]",
      "text/plain": [
       "<Figure size 576x720 with 4 Axes>"
      ]
     },
     "metadata": {
      "needs_background": "light"
     },
     "output_type": "display_data"
    }
   ],
   "source": [
    "thread_head.start_streaming()\n",
    "thread_head.start_logging()\n",
    "\n",
    "thread_head.sim_run(10000)\n",
    "\n",
    "thread_head.stop_streaming()\n",
    "thread_head.stop_logging()\n",
    "\n",
    "# Plot timing information.\n",
    "thread_head.plot_timing()"
   ]
  },
  {
   "cell_type": "code",
   "execution_count": null,
   "metadata": {},
   "outputs": [],
   "source": []
  },
  {
   "cell_type": "code",
   "execution_count": null,
   "metadata": {},
   "outputs": [],
   "source": []
  }
 ],
 "metadata": {
  "kernelspec": {
   "display_name": "Python 3 (ipykernel)",
   "language": "python",
   "name": "python3"
  },
  "language_info": {
   "codemirror_mode": {
    "name": "ipython",
    "version": 3
   },
   "file_extension": ".py",
   "mimetype": "text/x-python",
   "name": "python",
   "nbconvert_exporter": "python",
   "pygments_lexer": "ipython3",
   "version": "3.9.7"
  }
 },
 "nbformat": 4,
 "nbformat_minor": 4
}
